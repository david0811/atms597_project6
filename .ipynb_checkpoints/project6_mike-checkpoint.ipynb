{
  "nbformat": 4,
  "nbformat_minor": 0,
  "metadata": {
    "colab": {
      "name": "Project_6_Mike.ipynb",
      "provenance": [],
      "collapsed_sections": []
    },
    "kernelspec": {
      "display_name": "Python 3",
      "language": "python",
      "name": "python3"
    },
    "language_info": {
      "codemirror_mode": {
        "name": "ipython",
        "version": 3
      },
      "file_extension": ".py",
      "mimetype": "text/x-python",
      "name": "python",
      "nbconvert_exporter": "python",
      "pygments_lexer": "ipython3",
      "version": "3.7.6"
    },
    "accelerator": "GPU"
  },
  "cells": [
    {
      "cell_type": "markdown",
      "metadata": {
        "colab_type": "text",
        "id": "LJ0Y9lfDcjd5"
      },
      "source": [
        "### ATMS 597 Project 6 Group D\n",
        "\n"
      ]
    },
    {
      "cell_type": "markdown",
      "metadata": {
        "colab_type": "text",
        "id": "GZ0Q70Wycy8P"
      },
      "source": [
        "<b> Set Working Directory </b>"
      ]
    },
    {
      "cell_type": "code",
      "metadata": {
        "colab_type": "code",
        "id": "D9UFytVFczCt",
        "colab": {}
      },
      "source": [
        "#YOUR_DIRECTORY = '/content/drive/My Drive/Colab Notebooks/ATMS597/project6/' # Sarah\n",
        "YOUR_DIRECTORY = '/content/drive/My Drive/Project6/' # Michael\n",
        "#YOUR_DIRECTORY = './' # David"
      ],
      "execution_count": 0,
      "outputs": []
    },
    {
      "cell_type": "markdown",
      "metadata": {
        "colab_type": "text",
        "id": "YLK3x3arcnzJ"
      },
      "source": [
        "<b> Import libraries</b>"
      ]
    },
    {
      "cell_type": "code",
      "metadata": {
        "colab_type": "code",
        "id": "RxBsAfJAcnVh",
        "colab": {}
      },
      "source": [
        "from google.colab import drive\n",
        "drive.mount('/content/drive')\n",
        "import numpy as np\n",
        "import pandas as pd\n",
        "import matplotlib.pyplot as plt\n",
        "from sklearn.ensemble import RandomForestRegressor\n",
        "from sklearn.metrics import mean_squared_error\n",
        "import seaborn as sns; sns.set(font_scale = 1.5)"
      ],
      "execution_count": 0,
      "outputs": []
    },
    {
      "cell_type": "markdown",
      "metadata": {
        "colab_type": "text",
        "id": "7e3F8iGtcsYn"
      },
      "source": [
        "## Data Processing"
      ]
    },
    {
      "cell_type": "markdown",
      "metadata": {
        "colab_type": "text",
        "id": "cYtqV9PzdxpH"
      },
      "source": [
        "<b> Import Data </b>"
      ]
    },
    {
      "cell_type": "code",
      "metadata": {
        "colab_type": "code",
        "id": "A97y_AOZcr3l",
        "colab": {}
      },
      "source": [
        "gfs = pd.read_csv(YOUR_DIRECTORY + 'KCMI_data/GFS_Daily_PredictVars_2010thru2019.csv', index_col = 'Date', usecols = ['Date', 'TMAX', 'TMIN', 'WMAX', 'RTOT'], parse_dates = True)\n",
        "\n",
        "hourly_obs = pd.read_csv(YOUR_DIRECTORY + 'KCMI_data/KCMI_hourly_tidy.csv', index_col = 'Timestamp', parse_dates = True)\n",
        "hourly_obs.index = hourly_obs.index + pd.DateOffset(hours=12)\n",
        "\n",
        "daily_obs = pd.read_csv(YOUR_DIRECTORY + 'KCMI_data/KCMI_daily_tidy.csv', index_col = 'Date', parse_dates = True)\n",
        "daily_obs.index = daily_obs.index + pd.DateOffset(hours=12)\n",
        "\n",
        "gfs_sfc = pd.read_csv(YOUR_DIRECTORY + 'KCMI_data/GFS_Sfc_06Zto06ZAvgMinMax_AdditionalVars_2010thru2019.csv',  index_col = 'Unnamed: 0', parse_dates = True)\n",
        "gfs_sfc.index = gfs_sfc.index + pd.DateOffset(days=1)\n",
        "\n",
        "gfs_prof = pd.read_csv(YOUR_DIRECTORY + 'KCMI_data/GFS_Prof_06Zto06ZAvgMinMax_2010thru2019.csv',  index_col = 'Unnamed: 0', parse_dates = True)\n",
        "gfs_prof.index = gfs_prof.index + pd.DateOffset(days=1)"
      ],
      "execution_count": 0,
      "outputs": []
    },
    {
      "cell_type": "markdown",
      "metadata": {
        "colab_type": "text",
        "id": "FhmHESnWdzwM"
      },
      "source": [
        "<b> Merge Datasets </b>"
      ]
    },
    {
      "cell_type": "code",
      "metadata": {
        "colab_type": "code",
        "id": "9-JoVGCed0oL",
        "colab": {}
      },
      "source": [
        "features = pd.merge(daily_obs.reset_index(), gfs.reset_index(), on = 'Date', how = 'inner')\n",
        "features = pd.merge(features, hourly_obs.reset_index(), left_on = 'Date', right_on = 'Timestamp', how = 'inner').drop(columns = 'Timestamp')\n",
        "features = pd.merge(features, gfs_sfc.reset_index(), how = 'inner', left_on = 'Date', right_on = 'index').drop(columns = 'index')\n",
        "features = pd.merge(features, gfs_prof.reset_index(), how = 'inner', left_on = 'Date', right_on = 'index').drop(columns = 'index')\n",
        "features.dropna(inplace = True)  # There are some NaNs in the observations"
      ],
      "execution_count": 0,
      "outputs": []
    },
    {
      "cell_type": "markdown",
      "metadata": {
        "colab_type": "text",
        "id": "oiBVjtzheV67"
      },
      "source": [
        "<b> Other stuff </b>"
      ]
    },
    {
      "cell_type": "code",
      "metadata": {
        "colab_type": "code",
        "id": "SBre5_AYeJTO",
        "colab": {}
      },
      "source": [
        "# Add year, month, day as integers\n",
        "features['year'] = features['Date'].dt.year\n",
        "features['month'] = features['Date'].dt.month\n",
        "features['day'] = features['Date'].dt.day\n",
        "\n",
        "# Filter the predictors\n",
        "predictors = features.drop(columns = ['Date', 'Max Hourly Temp (C)', 'Min Hourly Temp (C)', 'Max Wind Speed (m/s)', 'Daily Precip (mm)'], axis = 1)\n",
        "\n",
        "# For plotting\n",
        "test_dates = np.array(features.query('year == 2019')['Date'])"
      ],
      "execution_count": 0,
      "outputs": []
    },
    {
      "cell_type": "markdown",
      "metadata": {
        "id": "p2LQT4TIDIpz",
        "colab_type": "text"
      },
      "source": [
        "<b> Split </b>"
      ]
    },
    {
      "cell_type": "code",
      "metadata": {
        "id": "9ik_rOmRDIp0",
        "colab_type": "code",
        "colab": {}
      },
      "source": [
        "# Tmax\n",
        "train_verification_tmax = np.array(features.query('year < 2019')['Max Hourly Temp (C)'])\n",
        "test_verification_tmax = np.array(features.query('year == 2019')['Max Hourly Temp (C)'])\n",
        "\n",
        "rf_tmax_vars  = ['TMAX','TMIN','tmpc','dwpc','WMAX','day','Avg DWPDEP(C)','Max DWPDEP(C)','Avg LCLD(%)','Avg HCLD(%)','Avg PRES(hPa)','Avg 850hPa DWPDEP(C)','Max 850hPa TMPC',\n",
        "                      'Min 925hPa TMPC','Max 925hPa TMPC','Min 250hPa WSPD(m/s)','Min 850hPa WSPD(m/s)']\n",
        "\n",
        "rf_train_vars_tmax = predictors.query('year < 2019')[rf_tmax_vars] \n",
        "rf_test_vars_tmax = predictors.query('year == 2019')[rf_tmax_vars]\n",
        "\n",
        "# Tmin \n",
        "train_verification_tmin = np.array(features.query('year < 2019')['Min Hourly Temp (C)'])\n",
        "test_verification_tmin = np.array(features.query('year == 2019')['Min Hourly Temp (C)'])\n",
        "\n",
        "rf_tmin_vars = ['TMAX','TMIN','WMAX','RTOT','mslp','wspd','skct','tmpc','dwpc','pr1h','Avg DWPDEP(C)','Avg LCLD(%)','Max LCLD(%)','Avg MCLD(%)','Avg HCLD(%)','Max HCLD(%)',\n",
        "                     'Avg PRES(hPa)','Max PRES(hPa)','Avg 850hPa DWPDEP(C)','Max 850hPa DWPDEP(C)','Avg 250hPa HGT(m)','Avg 500hPa HGT(m)','Min 850hPa TMPC','Min 925hPa TMPC',\n",
        "                     'Min 250hPa WSPD(m/s)','Min 925hPa WSPD(m/s)','Max 925hPa WSPD(m/s)'] \n",
        "\n",
        "rf_train_vars_tmin = predictors.query('year < 2019')[rf_tmin_vars] \n",
        "rf_test_vars_tmin = predictors.query('year == 2019')[rf_tmin_vars]\n",
        "\n",
        "# Wind\n",
        "train_verification_wind = np.array(features.query('year < 2019')['Max Wind Speed (m/s)'])\n",
        "test_verification_wind = np.array(features.query('year == 2019')['Max Wind Speed (m/s)'])\n",
        "\n",
        "rf_train_vars_wind = predictors.query('year < 2019').to_numpy()  # Use all available predictors\n",
        "rf_test_vars_wind = predictors.query('year == 2019').to_numpy()\n",
        "\n",
        "# Precip\n",
        "train_verification_prcp = np.array(features.query('year < 2019')['Daily Precip (mm)'])\n",
        "test_verification_prcp = np.array(features.query('year == 2019')['Daily Precip (mm)'])\n",
        "\n",
        "rf_prcp_vars = ['RTOT','TMAX','TMIN','WMAX','tmpc','mslp','skct','day','Min MCLD(%)','Max MCLD(%)','Max HCLD(%)','Avg PRES(hPa)','Min 850hPa DWPDEP(C)','Max 850hPa DWPDEP(C)',\n",
        "                            'Avg 500hPa HGT(m)','Max 500hPa WSPD(m/s)','Max 925hPa WSPD(m/s)','Avg 850hPa WSPD(m/s)','Avg 500hPa WSPD(m/s)','Avg 250hPa DWPDEP(C)',\n",
        "                            'Avg 500hPa DWPDEP(C)','Min 500hPa DWPDEP(C)','Avg 700hPa DWPDEP(C)','Min 700hPa DWPDEP(C)','Avg 850hPa DWPDEP(C)']\n",
        "\n",
        "rf_train_vars_prcp = predictors.query('year < 2019')[rf_prcp_vars] \n",
        "rf_test_vars_prcp = predictors.query('year == 2019')[rf_prcp_vars]"
      ],
      "execution_count": 0,
      "outputs": []
    },
    {
      "cell_type": "markdown",
      "metadata": {
        "colab_type": "text",
        "id": "Tnco_942hNp6"
      },
      "source": [
        "# Random Forest Regression"
      ]
    },
    {
      "cell_type": "markdown",
      "metadata": {
        "colab_type": "text",
        "id": "WYF_9mPNhOAl"
      },
      "source": [
        "## Maximum Temperature"
      ]
    },
    {
      "cell_type": "markdown",
      "metadata": {
        "colab_type": "text",
        "id": "qOTILOAPiH7U"
      },
      "source": [
        "### Training Model"
      ]
    },
    {
      "cell_type": "code",
      "metadata": {
        "colab_type": "code",
        "id": "xDac0dSViHdf",
        "jupyter": {
          "source_hidden": true
        },
        "colab": {}
      },
      "source": [
        "# Fit the model. The hyper-parameters were determined prior using RandomizedSearchCV\n",
        "rfmax = RandomForestRegressor(n_estimators = 1600, random_state = 42, max_depth = 80, max_features = 'sqrt', min_samples_leaf = 1, min_samples_split = 3, bootstrap = True)\n",
        "rfmax.fit(rf_train_vars_tmax, train_verification_tmax);"
      ],
      "execution_count": 0,
      "outputs": []
    },
    {
      "cell_type": "markdown",
      "metadata": {
        "colab_type": "text",
        "id": "5jt5Fdz5iKI9"
      },
      "source": [
        "### RMSE"
      ]
    },
    {
      "cell_type": "code",
      "metadata": {
        "colab_type": "code",
        "id": "YeHewhQZiKfn",
        "jupyter": {
          "source_hidden": true
        },
        "colab": {}
      },
      "source": [
        "rf_predictions_tmax = rfmax.predict(rf_test_vars_tmax)\n",
        "print('Root Mean Square Error:', round(mean_squared_error(test_verification_tmax, rf_predictions_tmax, squared = False), 2), 'degrees C.')"
      ],
      "execution_count": 0,
      "outputs": []
    },
    {
      "cell_type": "markdown",
      "metadata": {
        "colab_type": "text",
        "id": "wRTh6vHBiKv4"
      },
      "source": [
        "### Plot"
      ]
    },
    {
      "cell_type": "code",
      "metadata": {
        "colab_type": "code",
        "collapsed": true,
        "id": "ia_1FI12iLU1",
        "jupyter": {
          "outputs_hidden": true,
          "source_hidden": true
        },
        "colab": {}
      },
      "source": [
        "fig, ax = plt.subplots(figsize = (8,5))\n",
        "ax.plot(test_dates, test_verification_tmax, 'ro', label = 'Observed')\n",
        "ax.plot(test_dates, rf_predictions_tmax, 'b-', label = 'Predicted')\n",
        "ax.set_xlabel('Date')\n",
        "ax.set_ylabel('Temperature ($^\\degree C$)')\n",
        "plt.xticks(rotation = 45)\n",
        "plt.legend()\n",
        "plt.tight_layout()\n",
        "plt.show()"
      ],
      "execution_count": 0,
      "outputs": []
    },
    {
      "cell_type": "markdown",
      "metadata": {
        "colab_type": "text",
        "id": "HY7lWWuWiLvJ"
      },
      "source": [
        "## Minimum Temperature"
      ]
    },
    {
      "cell_type": "markdown",
      "metadata": {
        "colab_type": "text",
        "id": "CfixKAnSiLyq"
      },
      "source": [
        "### Training Model"
      ]
    },
    {
      "cell_type": "code",
      "metadata": {
        "colab_type": "code",
        "id": "4tj48YUUiOgs",
        "jupyter": {
          "source_hidden": true
        },
        "colab": {}
      },
      "source": [
        "# Fit the model. The hyper-parameters were determined prior using RandomizedSearchCV\n",
        "rfmin = rfmin = RandomForestRegressor(n_estimators = 1600, random_state = 42, max_depth = 80, max_features = 'sqrt', min_samples_leaf = 1, min_samples_split = 3, bootstrap = True)\n",
        "rfmin.fit(rf_train_vars_tmin, train_verification_tmin);"
      ],
      "execution_count": 0,
      "outputs": []
    },
    {
      "cell_type": "markdown",
      "metadata": {
        "colab_type": "text",
        "id": "5BFKEdO5iOxy"
      },
      "source": [
        "### RMSE"
      ]
    },
    {
      "cell_type": "code",
      "metadata": {
        "colab_type": "code",
        "id": "I43tnieTiPM5",
        "jupyter": {
          "source_hidden": true
        },
        "colab": {}
      },
      "source": [
        "rf_predictions_tmin = rfmin.predict(rf_test_vars_tmin)\n",
        "print('Root Mean Square Error:', round(mean_squared_error(test_verification_tmin, rf_predictions_tmin, squared = False), 2), 'degrees C.')"
      ],
      "execution_count": 0,
      "outputs": []
    },
    {
      "cell_type": "markdown",
      "metadata": {
        "colab_type": "text",
        "id": "JEXFnCHbiPdC"
      },
      "source": [
        "### Plot"
      ]
    },
    {
      "cell_type": "code",
      "metadata": {
        "colab_type": "code",
        "collapsed": true,
        "id": "4gGDtPDyiQCU",
        "jupyter": {
          "outputs_hidden": true,
          "source_hidden": true
        },
        "colab": {}
      },
      "source": [
        "fig, ax = plt.subplots(figsize = (8,5))\n",
        "ax.plot(test_dates, test_verification_tmin, 'ro', label = 'Observed')\n",
        "ax.plot(test_dates, rf_predictions_tmin, 'b-', label = 'Predicted')\n",
        "ax.set_xlabel('Date')\n",
        "ax.set_ylabel('Temperature ($^\\degree C$)')\n",
        "plt.xticks(rotation = 45)\n",
        "plt.legend()\n",
        "plt.tight_layout()\n",
        "plt.show()"
      ],
      "execution_count": 0,
      "outputs": []
    },
    {
      "cell_type": "markdown",
      "metadata": {
        "colab_type": "text",
        "id": "9fCOqJCliQk-"
      },
      "source": [
        "## Maximum Wind"
      ]
    },
    {
      "cell_type": "markdown",
      "metadata": {
        "colab_type": "text",
        "id": "ED_BT0HPiQnk"
      },
      "source": [
        "### Training Model"
      ]
    },
    {
      "cell_type": "code",
      "metadata": {
        "colab_type": "code",
        "id": "cP5SF40biUIF",
        "jupyter": {
          "source_hidden": true
        },
        "colab": {}
      },
      "source": [
        "# Fit the model. The hyper-parameters were determined prior using RandomizedSearchCV\n",
        "rfwind = RandomForestRegressor(n_estimators = 1600, random_state = 42, max_depth = 80, max_features = 'auto', min_samples_leaf = 1, min_samples_split = 3, bootstrap = True)\n",
        "rfwind.fit(rf_train_vars_wind, train_verification_wind);"
      ],
      "execution_count": 0,
      "outputs": []
    },
    {
      "cell_type": "markdown",
      "metadata": {
        "colab_type": "text",
        "id": "1etJW2HZiUhj"
      },
      "source": [
        "### RMSE"
      ]
    },
    {
      "cell_type": "code",
      "metadata": {
        "colab_type": "code",
        "id": "lDZTt_5-iVAk",
        "jupyter": {
          "source_hidden": true
        },
        "colab": {}
      },
      "source": [
        "rf_predictions_wind = rfwind.predict(rf_test_vars_wind)\n",
        "print('Root Mean Square Error:', round(mean_squared_error(test_verification_wind, rf_predictions_wind, squared = False), 2), 'm/s.')"
      ],
      "execution_count": 0,
      "outputs": []
    },
    {
      "cell_type": "markdown",
      "metadata": {
        "colab_type": "text",
        "id": "cLdYMTK3iVTq"
      },
      "source": [
        "### Plot"
      ]
    },
    {
      "cell_type": "code",
      "metadata": {
        "colab_type": "code",
        "collapsed": true,
        "id": "izI0uibEiV4n",
        "jupyter": {
          "outputs_hidden": true,
          "source_hidden": true
        },
        "colab": {}
      },
      "source": [
        "fig, ax = plt.subplots(figsize = (8,5))\n",
        "ax.plot(test_dates, test_verification_wind, 'ro', label = 'Observed')\n",
        "ax.plot(test_dates, rf_predictions_wind, 'b-', label = 'Predicted')\n",
        "ax.set_xlabel('Date')\n",
        "ax.set_ylabel('Wind Speed ($m/s$)')\n",
        "plt.legend(loc = [0.48, 0.78])\n",
        "plt.tight_layout()\n",
        "plt.show()"
      ],
      "execution_count": 0,
      "outputs": []
    },
    {
      "cell_type": "markdown",
      "metadata": {
        "colab_type": "text",
        "id": "vBj01SyoiWQf"
      },
      "source": [
        "## Precipitation"
      ]
    },
    {
      "cell_type": "markdown",
      "metadata": {
        "colab_type": "text",
        "id": "GdxkwhLpiWTG"
      },
      "source": [
        "### Training Model"
      ]
    },
    {
      "cell_type": "code",
      "metadata": {
        "colab_type": "code",
        "id": "m_SM43KZiYiG",
        "jupyter": {
          "source_hidden": true
        },
        "colab": {}
      },
      "source": [
        "# Fit the model. The hyper-parameters were determined prior using RandomizedSearchCV\n",
        "rfprcp = RandomForestRegressor(n_estimators = 1600, random_state = 42, max_depth = 80, max_features = 'sqrt', min_samples_leaf = 8, min_samples_split = 3, bootstrap = True)\n",
        "rfprcp.fit(rf_train_vars_prcp, train_verification_prcp);"
      ],
      "execution_count": 0,
      "outputs": []
    },
    {
      "cell_type": "markdown",
      "metadata": {
        "colab_type": "text",
        "id": "jJMbg9YsiY4p"
      },
      "source": [
        "### RMSE"
      ]
    },
    {
      "cell_type": "code",
      "metadata": {
        "colab_type": "code",
        "id": "lSoSqfW2iZdE",
        "jupyter": {
          "source_hidden": true
        },
        "colab": {}
      },
      "source": [
        "rf_predictions_prcp = rfprcp.predict(rf_test_vars_prcp)\n",
        "print('Root Mean Square Error:', round(mean_squared_error(test_verification_prcp, rf_predictions_prcp, squared = False), 2), 'mm.')"
      ],
      "execution_count": 0,
      "outputs": []
    },
    {
      "cell_type": "markdown",
      "metadata": {
        "colab_type": "text",
        "id": "M3fZL4CpiZ2w"
      },
      "source": [
        "### Plot"
      ]
    },
    {
      "cell_type": "code",
      "metadata": {
        "colab_type": "code",
        "collapsed": true,
        "id": "CSvcZk1ziaiN",
        "jupyter": {
          "outputs_hidden": true,
          "source_hidden": true
        },
        "colab": {}
      },
      "source": [
        "fig, ax = plt.subplots(figsize = (8,5))\n",
        "ax.plot(test_dates, test_verification_prcp, 'ro', label = 'Observed')\n",
        "ax.plot(test_dates, rf_predictions_prcp, 'b-', label = 'Predicted')\n",
        "ax.set_xlabel('Date')\n",
        "ax.set_ylabel('Precipitation ($mm$)')\n",
        "plt.legend(loc = 'upper right')\n",
        "plt.tight_layout()\n",
        "plt.show()"
      ],
      "execution_count": 0,
      "outputs": []
    },
    {
      "cell_type": "markdown",
      "metadata": {
        "colab_type": "text",
        "id": "U4EXK2Tzkkob"
      },
      "source": [
        "# Neural Network"
      ]
    },
    {
      "cell_type": "markdown",
      "metadata": {
        "colab_type": "text",
        "id": "oR99CdlUkvrl"
      },
      "source": [
        "<b> Import libraries </b>"
      ]
    },
    {
      "cell_type": "code",
      "metadata": {
        "colab_type": "code",
        "id": "mDjg0hM7i0CD",
        "colab": {}
      },
      "source": [
        "# TensorFlow and tf.keras\n",
        "import tensorflow as tf\n",
        "from tensorflow import keras\n",
        "from tensorflow.keras.layers import Dense, Dropout\n",
        "from sklearn import preprocessing\n",
        "\n",
        "# Commonly used modules\n",
        "import numpy as np\n",
        "import os\n",
        "import sys\n",
        "\n",
        "# Images, plots, display, and visualization\n",
        "import IPython\n",
        "\n",
        "import datetime, os\n",
        "%load_ext tensorboard\n",
        "logs_base_dir = \"./logs\"\n",
        "os.makedirs(logs_base_dir, exist_ok=True)\n",
        "\n",
        "print(tf.__version__)"
      ],
      "execution_count": 0,
      "outputs": []
    },
    {
      "cell_type": "markdown",
      "metadata": {
        "id": "wMM1ZwP8DIqy",
        "colab_type": "text"
      },
      "source": [
        "<b> Useful functions </b>"
      ]
    },
    {
      "cell_type": "code",
      "metadata": {
        "id": "P6SvyxRQDIqz",
        "colab_type": "code",
        "colab": {}
      },
      "source": [
        "def plot_history(unit):\n",
        "    plt.figure()\n",
        "    plt.xlabel('Epoch')\n",
        "    plt.ylabel('Mean Square Error [' + unit + ']')\n",
        "    plt.plot(hist['epoch'], hist['mse'], label='Train Error')\n",
        "    plt.plot(hist['epoch'], hist['val_mse'], label = 'Val Error')\n",
        "    plt.legend()\n",
        "    plt.ylim([0,50])"
      ],
      "execution_count": 0,
      "outputs": []
    },
    {
      "cell_type": "markdown",
      "metadata": {
        "colab_type": "text",
        "id": "YtrBc-SGmBw5"
      },
      "source": [
        "## Maximum Temperature"
      ]
    },
    {
      "cell_type": "code",
      "metadata": {
        "colab_type": "code",
        "id": "quEgWr6omf9Q",
        "colab": {}
      },
      "source": [
        "rf_train_vars_tmax.head()"
      ],
      "execution_count": 0,
      "outputs": []
    },
    {
      "cell_type": "code",
      "metadata": {
        "id": "KBKy-mSTDIq5",
        "colab_type": "code",
        "colab": {}
      },
      "source": [
        "# Standardize\n",
        "rf_train_vars_tmax_norm = preprocessing.scale(rf_train_vars_tmax)"
      ],
      "execution_count": 0,
      "outputs": []
    },
    {
      "cell_type": "code",
      "metadata": {
        "id": "7V7f1k4nDIq7",
        "colab_type": "code",
        "colab": {}
      },
      "source": [
        "rf_train_vars_tmax_norm"
      ],
      "execution_count": 0,
      "outputs": []
    },
    {
      "cell_type": "markdown",
      "metadata": {
        "colab_type": "text",
        "id": "DRZP9g_sgUi7"
      },
      "source": [
        "### Build Model"
      ]
    },
    {
      "cell_type": "code",
      "metadata": {
        "id": "9QL3EcbsDIq_",
        "colab_type": "code",
        "colab": {}
      },
      "source": [
        "# Build Model with 2 hidden layers of 64 neurons each\n",
        "def build_tmax_model():\n",
        "    model = keras.Sequential([\n",
        "        Dense(4, activation=tf.nn.relu, input_shape=[len(rf_train_vars_tmax_norm[0])], kernel_regularizer=tf.keras.regularizers.l1_l2(l1=0.01, l2=0.01)),\n",
        "        Dense(4, activation=tf.nn.relu, input_shape=[len(rf_train_vars_tmax_norm[0])], kernel_regularizer=tf.keras.regularizers.l1_l2(l1=0.01, l2=0.01)),\n",
        "        Dense(4, activation=tf.nn.relu, input_shape=[len(rf_train_vars_tmax_norm[0])], kernel_regularizer=tf.keras.regularizers.l1_l2(l1=0.01, l2=0.01)),\n",
        "        Dense(1)\n",
        "    ])\n",
        "\n",
        "    model.compile(optimizer = tf.optimizers.RMSprop(learning_rate=0.001, momentum=0.1, epsilon=1e-07, centered=True),\n",
        "                  # tf.optimizers.Adam(learning_rate=0.001, beta_1=0.9, beta_2=0.999, epsilon=1e-07, amsgrad=False), \n",
        "                  # There are others: https://www.tensorflow.org/versions/r2.0/api_docs/python/tf/keras/optimizers\n",
        "                  loss='mse', metrics=['mae', 'mse']) \n",
        "\n",
        "    return model "
      ],
      "execution_count": 0,
      "outputs": []
    },
    {
      "cell_type": "code",
      "metadata": {
        "id": "ghKBDbRzDIrB",
        "colab_type": "code",
        "colab": {}
      },
      "source": [
        "tmax_model = build_tmax_model()"
      ],
      "execution_count": 0,
      "outputs": []
    },
    {
      "cell_type": "code",
      "metadata": {
        "id": "jFPNAF4wDIrE",
        "colab_type": "code",
        "colab": {}
      },
      "source": [
        "tmax_model.summary()"
      ],
      "execution_count": 0,
      "outputs": []
    },
    {
      "cell_type": "markdown",
      "metadata": {
        "colab_type": "text",
        "id": "YH8-crkrgWwa"
      },
      "source": [
        "### Train Model"
      ]
    },
    {
      "cell_type": "code",
      "metadata": {
        "colab_type": "code",
        "collapsed": true,
        "id": "3X2lLFnygZHv",
        "jupyter": {
          "outputs_hidden": true
        },
        "colab": {}
      },
      "source": [
        "%%time\n",
        "\n",
        "logdir = os.path.join(logs_base_dir, datetime.datetime.now().strftime(\"%Y%m%d-%H%M%S\"))\n",
        "tensorboard_callback = tf.keras.callbacks.TensorBoard(logdir, histogram_freq=1)\n",
        "\n",
        "history = tmax_model.fit(rf_train_vars_tmax_norm, train_verification_tmax, epochs=100, validation_split = 0.1, callbacks=[tensorboard_callback])\n",
        "\n",
        "hist = pd.DataFrame(history.history)\n",
        "hist['epoch'] = history.epoch"
      ],
      "execution_count": 0,
      "outputs": []
    },
    {
      "cell_type": "markdown",
      "metadata": {
        "colab_type": "text",
        "id": "k-BxgtP5gcad"
      },
      "source": [
        "### RMSE"
      ]
    },
    {
      "cell_type": "code",
      "metadata": {
        "colab_type": "code",
        "id": "VNLdvjpTgc_h",
        "colab": {}
      },
      "source": [
        "rmse_final = np.sqrt(float(hist['val_mse'].tail(1)))\n",
        "print('Final Root Mean Square Error on validation set: {}'.format(round(rmse_final, 3)))"
      ],
      "execution_count": 0,
      "outputs": []
    },
    {
      "cell_type": "code",
      "metadata": {
        "id": "qC3fIUAmDIrO",
        "colab_type": "code",
        "colab": {}
      },
      "source": [
        "def plot_history(unit):\n",
        "    plt.figure()\n",
        "    plt.xlabel('Epoch')\n",
        "    plt.ylabel('Mean Square Error [' + unit + ']')\n",
        "    plt.plot(hist['epoch'], hist['mse'], label='Train Error')\n",
        "    plt.plot(hist['epoch'], hist['val_mse'], label = 'Val Error')\n",
        "    plt.legend()\n",
        "    plt.ylim([0,10])\n",
        "    plt.title('Maximum Temperature Learning Curve')\n",
        "    plt.tight_layout()\n",
        "    plt.show()\n",
        "#     plt.savefig('tmax_bs_model.png')\n",
        "plot_history('$^\\circ C$')"
      ],
      "execution_count": 0,
      "outputs": []
    },
    {
      "cell_type": "code",
      "metadata": {
        "id": "jY94d9vMDIrR",
        "colab_type": "code",
        "colab": {}
      },
      "source": [
        "rf_test_vars_tmax_norm = preprocessing.scale(rf_test_vars_tmax)\n",
        "tmax_rmse = mean_squared_error(test_verification_tmax, tmax_model.predict(rf_test_vars_tmax_norm), squared=False)\n",
        "print('Root Mean Square Error on test set: {}'.format(round(tmax_rmse, 3)))"
      ],
      "execution_count": 0,
      "outputs": []
    },
    {
      "cell_type": "code",
      "metadata": {
        "id": "s5m-4FBgDIrU",
        "colab_type": "code",
        "colab": {}
      },
      "source": [
        "# Plot \n",
        "fig, ax = plt.subplots(figsize = (8,5))\n",
        "ax.plot(test_dates, test_verification_tmax, 'ro', label = 'Observed')\n",
        "ax.plot(test_dates, tmax_model.predict(rf_test_vars_tmax_norm), 'b-', label = 'Predicted')\n",
        "ax.set_xlabel('Date')\n",
        "ax.set_ylabel('Temperature ($^\\degree C$)')\n",
        "plt.xticks(rotation = 45)\n",
        "plt.legend()\n",
        "plt.tight_layout()\n",
        "plt.show()"
      ],
      "execution_count": 0,
      "outputs": []
    },
    {
      "cell_type": "markdown",
      "metadata": {
        "id": "N5temhpoDIrX",
        "colab_type": "text"
      },
      "source": [
        "### Ensemble"
      ]
    },
    {
      "cell_type": "code",
      "metadata": {
        "id": "zuG8DADKDIrX",
        "colab_type": "code",
        "colab": {}
      },
      "source": [
        "def build_tmax_model_variable(n_nodes):\n",
        "    model = keras.Sequential([\n",
        "        Dense(n_nodes, activation=tf.nn.relu, input_shape=[len(rf_train_vars_tmax_norm[0])]),\n",
        "        Dense(1)\n",
        "    ])\n",
        "\n",
        "    model.compile(optimizer = tf.optimizers.RMSprop(learning_rate=0.001, momentum=0.1, epsilon=1e-07, centered=True),\n",
        "                  # Other optimizer iterations: learning_rate=0.01, momentum=0.9, epsilon=1e-07, centered=True\n",
        "                  loss='mse', metrics=['mae', 'mse']) \n",
        "\n",
        "    return model\n"
      ],
      "execution_count": 0,
      "outputs": []
    },
    {
      "cell_type": "code",
      "metadata": {
        "id": "TuiMZUDSDIrb",
        "colab_type": "code",
        "colab": {}
      },
      "source": [
        "# Build each model\n",
        "for nodes in range(4,31):\n",
        "    globals()['tmax_model_' + str(nodes)] = build_tmax_model_variable(nodes)"
      ],
      "execution_count": 0,
      "outputs": []
    },
    {
      "cell_type": "code",
      "metadata": {
        "id": "cFIOhGU2DIre",
        "colab_type": "code",
        "colab": {}
      },
      "source": [
        "# Example\n",
        "tmax_model_4.summary()"
      ],
      "execution_count": 0,
      "outputs": []
    },
    {
      "cell_type": "code",
      "metadata": {
        "id": "FNQ9wrL6DIrh",
        "colab_type": "code",
        "colab": {}
      },
      "source": [
        "def train_tmax_model(model_nodes):\n",
        "    logdir = os.path.join(logs_base_dir, datetime.datetime.now().strftime(\"%Y%m%d-%H%M%S\"))\n",
        "    tensorboard_callback = tf.keras.callbacks.TensorBoard(logdir, histogram_freq=1)\n",
        "    early_stop = keras.callbacks.EarlyStopping(monitor='mse', patience=10, restore_best_weights=True)\n",
        "    \n",
        "    model = globals()['tmax_model_' + str(model_nodes)]\n",
        "\n",
        "    globals()['tmax_model_' + str(model_nodes) + '_history'] = model.fit(rf_train_vars_tmax_norm, train_verification_tmax, epochs=100, validation_split = 0.1, callbacks=[early_stop, tensorboard_callback], verbose=0.)\n",
        "    globals()['tmax_model_' + str(model_nodes) + 'hist'] = pd.DataFrame(globals()['tmax_model_' + str(model_nodes) + '_history'].history)\n",
        "    globals()['tmax_model_' + str(model_nodes) + 'hist']['epoch'] = globals()['tmax_model_' + str(model_nodes) + '_history'].epoch"
      ],
      "execution_count": 0,
      "outputs": []
    },
    {
      "cell_type": "code",
      "metadata": {
        "id": "Nx6XONXIDIrk",
        "colab_type": "code",
        "colab": {}
      },
      "source": [
        "# Train each model\n",
        "for nodes in range(4,31):\n",
        "    print('Training model ' + str(nodes) + '...')\n",
        "    train_tmax_model(nodes)"
      ],
      "execution_count": 0,
      "outputs": []
    },
    {
      "cell_type": "code",
      "metadata": {
        "id": "wxmoPrxRDIro",
        "colab_type": "code",
        "colab": {}
      },
      "source": [
        "# Show histories\n",
        "def plot_history(model_nodes, train_axis, val_axis):\n",
        "    hist = globals()['tmax_model_' + str(model_nodes) + 'hist']\n",
        "    train_axis.plot(hist['epoch'], hist['mse'], color = 'gray')\n",
        "    val_axis.plot(hist['epoch'], hist['val_mse'], color = 'gray')\n",
        "    \n",
        "fig, ax = plt.subplots(1,2, figsize = (20,7), sharey=True)\n",
        "\n",
        "for nodes in range(4,31):\n",
        "    plot_history(nodes, ax[0], ax[1])\n",
        "\n",
        "ax[0].set_xlabel('Epoch')\n",
        "ax[1].set_xlabel('Epoch')\n",
        "ax[0].set_ylabel('Mean Square Error [$^\\circ C$]')\n",
        "ax[0].set_ylim([0,50])\n",
        "ax[0].set_title('Training Learning Curve')\n",
        "ax[1].set_title('Validation Learning Curve')\n",
        "plt.tight_layout()\n",
        "plt.savefig('maxT_example.png')"
      ],
      "execution_count": 0,
      "outputs": []
    },
    {
      "cell_type": "code",
      "metadata": {
        "id": "qpauhXDdDIrr",
        "colab_type": "code",
        "colab": {}
      },
      "source": [
        "# RMSEs\n",
        "rf_test_vars_tmax_norm = preprocessing.scale(rf_test_vars_tmax)\n",
        "fig, ax = plt.subplots(1,1, figsize = (20,7))\n",
        "\n",
        "for nodes in range(4,31):\n",
        "    model = globals()['tmax_model_' + str(nodes)]\n",
        "    rmse = mean_squared_error(test_verification_tmax, model.predict(rf_test_vars_tmax_norm), squared=False)\n",
        "    ax.scatter(nodes, rmse, s=25, c='black')\n",
        "    print(rmse)\n",
        "\n",
        "ax.set_xlabel('Number of neurons in layer')\n",
        "ax.set_xticks(range(4,31))\n",
        "ax.set_ylabel('Root Mean Square Error [$^\\circ C$]')\n",
        "plt.tight_layout()\n",
        "plt.savefig('tmax_rmse_neurons.png')"
      ],
      "execution_count": 0,
      "outputs": []
    },
    {
      "cell_type": "code",
      "metadata": {
        "id": "Edo4B7K5DIru",
        "colab_type": "code",
        "colab": {}
      },
      "source": [
        "# Ensemble RMSE\n",
        "prediction = 0.\n",
        "\n",
        "for nodes in range(4,31):\n",
        "    model = globals()['tmax_model_' + str(nodes)]\n",
        "    prediction += model.predict(rf_test_vars_tmax_norm)\n",
        "\n",
        "prediction /= 26.\n",
        "\n",
        "print('Ensemble Mean RMSE: ' + str(np.round(mean_squared_error(test_verification_tmax, prediction, squared=False),4)) + ' deg C')"
      ],
      "execution_count": 0,
      "outputs": []
    },
    {
      "cell_type": "code",
      "metadata": {
        "id": "oXPVw1wrDIrw",
        "colab_type": "code",
        "colab": {}
      },
      "source": [
        "# Ensemble RMSE\n",
        "prediction = 0.\n",
        "\n",
        "for nodes in [27,29,25]:\n",
        "    model = globals()['tmax_model_' + str(nodes)]\n",
        "    prediction += model.predict(rf_test_vars_tmax_norm)\n",
        "\n",
        "prediction /= 3.\n",
        "\n",
        "print('Ensemble Mean RMSE: ' + str(np.round(mean_squared_error(test_verification_tmax, prediction, squared=False),4)) + ' deg C')"
      ],
      "execution_count": 0,
      "outputs": []
    },
    {
      "cell_type": "code",
      "metadata": {
        "id": "maW1zHAwDIrz",
        "colab_type": "code",
        "colab": {}
      },
      "source": [
        "# Plot \n",
        "fig, ax = plt.subplots(figsize = (8,5))\n",
        "ax.plot(test_dates, test_verification_tmax, 'ro', label = 'Observed')\n",
        "ax.plot(test_dates, prediction, 'b-', label = 'Predicted')\n",
        "ax.set_xlabel('Date')\n",
        "ax.set_ylabel('Temperature ($^\\degree C$)')\n",
        "plt.xticks(rotation = 45)\n",
        "plt.legend()\n",
        "plt.tight_layout()\n",
        "plt.savefig('tmax_final.png')"
      ],
      "execution_count": 0,
      "outputs": []
    },
    {
      "cell_type": "markdown",
      "metadata": {
        "id": "LJu8dXK8DIr2",
        "colab_type": "text"
      },
      "source": [
        "## Minimum Temperature"
      ]
    },
    {
      "cell_type": "code",
      "metadata": {
        "id": "PHS2QhngDIr2",
        "colab_type": "code",
        "colab": {}
      },
      "source": [
        "rf_train_vars_tmin.head()"
      ],
      "execution_count": 0,
      "outputs": []
    },
    {
      "cell_type": "code",
      "metadata": {
        "id": "5VQ22qVaDIr5",
        "colab_type": "code",
        "colab": {}
      },
      "source": [
        "# Standardize\n",
        "rf_train_vars_tmin_norm = preprocessing.scale(rf_train_vars_tmin)"
      ],
      "execution_count": 0,
      "outputs": []
    },
    {
      "cell_type": "code",
      "metadata": {
        "id": "x-xeupVHDIr9",
        "colab_type": "code",
        "colab": {}
      },
      "source": [
        "rf_train_vars_tmin_norm"
      ],
      "execution_count": 0,
      "outputs": []
    },
    {
      "cell_type": "markdown",
      "metadata": {
        "id": "j8h9Q6imDIsA",
        "colab_type": "text"
      },
      "source": [
        "### Model"
      ]
    },
    {
      "cell_type": "code",
      "metadata": {
        "id": "9rOF5O_DDIsB",
        "colab_type": "code",
        "colab": {}
      },
      "source": [
        "# Build verySimple model: with 1 hidden layer of 4 neurons\n",
        "def build_tmin_model_verySimple():\n",
        "    model = keras.Sequential([\n",
        "        Dense(4, activation=tf.nn.relu, input_shape=[len(rf_train_vars_tmin_norm[0])]),\n",
        "        Dense(1)\n",
        "    ])\n",
        "\n",
        "    model.compile(optimizer = tf.optimizers.RMSprop(),\n",
        "                  # tf.optimizers.Adam(learning_rate=0.001, beta_1=0.9, beta_2=0.999, epsilon=1e-07, amsgrad=False), \n",
        "                  # there are others: https://www.tensorflow.org/versions/r2.0/api_docs/python/tf/keras/optimizers\n",
        "                  loss='mse', metrics=['mae', 'mse']) \n",
        "\n",
        "    return model\n",
        "\n",
        "# Build Simple model: 1 hidden layer of 20 neurons\n",
        "def build_tmin_model_Simple():\n",
        "    model = keras.Sequential([\n",
        "        Dense(20, activation=tf.nn.relu, input_shape=[len(rf_train_vars_tmin_norm[0])]),\n",
        "        Dense(1)\n",
        "    ])\n",
        "\n",
        "    model.compile(optimizer = tf.optimizers.RMSprop(learning_rate=0.001, momentum=0.1, epsilon=1e-07, centered=True),\n",
        "                  # tf.optimizers.Adam(learning_rate=0.001, beta_1=0.9, beta_2=0.999, epsilon=1e-07, amsgrad=False), \n",
        "                  # there are others: https://www.tensorflow.org/versions/r2.0/api_docs/python/tf/keras/optimizers\n",
        "                  loss='mse', metrics=['mae', 'mse']) \n",
        "\n",
        "    return model\n",
        "\n",
        "# Build Intermediate model: 2 hidden layers of 20 neurons each\n",
        "def build_tmin_model_Intermediate():\n",
        "    model = keras.Sequential([\n",
        "        Dense(20, activation=tf.nn.relu, input_shape=[len(rf_train_vars_tmin_norm[0])]),\n",
        "        Dense(20, activation=tf.nn.relu, input_shape=[len(rf_train_vars_tmin_norm[0])]),\n",
        "        Dense(1)\n",
        "    ])\n",
        "\n",
        "    model.compile(optimizer = tf.optimizers.RMSprop(),\n",
        "                  # tf.optimizers.Adam(learning_rate=0.001, beta_1=0.9, beta_2=0.999, epsilon=1e-07, amsgrad=False), \n",
        "                  # there are others: https://www.tensorflow.org/versions/r2.0/api_docs/python/tf/keras/optimizers\n",
        "                  loss='mse', metrics=['mae', 'mse']) \n",
        "\n",
        "    return model\n",
        "\n",
        "# Build Complex model: 2 hidden layers of 64 neurons each\n",
        "def build_tmin_model_Complex():\n",
        "    model = keras.Sequential([\n",
        "        Dense(64, activation=tf.nn.relu, input_shape=[len(rf_train_vars_tmin_norm[0])]),\n",
        "        Dense(64, activation=tf.nn.relu, input_shape=[len(rf_train_vars_tmin_norm[0])]),\n",
        "        Dense(1)\n",
        "    ])\n",
        "\n",
        "    model.compile(optimizer = tf.optimizers.RMSprop(),\n",
        "                  # tf.optimizers.Adam(learning_rate=0.001, beta_1=0.9, beta_2=0.999, epsilon=1e-07, amsgrad=False), \n",
        "                  # there are others: https://www.tensorflow.org/versions/r2.0/api_docs/python/tf/keras/optimizers\n",
        "                  loss='mse', metrics=['mae', 'mse']) \n",
        "\n",
        "    return model"
      ],
      "execution_count": 0,
      "outputs": []
    },
    {
      "cell_type": "code",
      "metadata": {
        "id": "qFM_MR8aDIsE",
        "colab_type": "code",
        "colab": {}
      },
      "source": [
        "tmin_model_verySimple = build_tmin_model_verySimple()\n",
        "tmin_model_Simple = build_tmin_model_Simple()\n",
        "tmin_model_Intermediate = build_tmin_model_Intermediate()\n",
        "tmin_model_Complex = build_tmin_model_Complex()"
      ],
      "execution_count": 0,
      "outputs": []
    },
    {
      "cell_type": "code",
      "metadata": {
        "id": "rY2qPsFlDIsG",
        "colab_type": "code",
        "colab": {}
      },
      "source": [
        "[tmin_model_verySimple.summary(), tmin_model_Simple.summary(), tmin_model_Intermediate.summary(), tmin_model_Complex.summary()]"
      ],
      "execution_count": 0,
      "outputs": []
    },
    {
      "cell_type": "code",
      "metadata": {
        "collapsed": true,
        "jupyter": {
          "outputs_hidden": true
        },
        "id": "DQMLfObeDIsI",
        "colab_type": "code",
        "colab": {}
      },
      "source": [
        "%%time\n",
        "\n",
        "logdir = os.path.join(logs_base_dir, datetime.datetime.now().strftime(\"%Y%m%d-%H%M%S\"))\n",
        "tensorboard_callback = tf.keras.callbacks.TensorBoard(logdir, histogram_freq=1)\n",
        "early_stop = keras.callbacks.EarlyStopping(monitor='mse', patience=10, restore_best_weights=True)\n",
        "\n",
        "verySimple_history = tmin_model_verySimple.fit(rf_train_vars_tmin_norm, train_verification_tmin, epochs=100, validation_split = 0.1, callbacks=[early_stop, tensorboard_callback])\n",
        "verySimplehist = pd.DataFrame(verySimple_history.history)\n",
        "verySimplehist['epoch'] = verySimple_history.epoch"
      ],
      "execution_count": 0,
      "outputs": []
    },
    {
      "cell_type": "code",
      "metadata": {
        "collapsed": true,
        "jupyter": {
          "outputs_hidden": true
        },
        "id": "-EBMA4ObDIsO",
        "colab_type": "code",
        "colab": {}
      },
      "source": [
        "%%time\n",
        "\n",
        "logdir = os.path.join(logs_base_dir, datetime.datetime.now().strftime(\"%Y%m%d-%H%M%S\"))\n",
        "tensorboard_callback = tf.keras.callbacks.TensorBoard(logdir, histogram_freq=1)\n",
        "early_stop = keras.callbacks.EarlyStopping(monitor='mse', patience=10, restore_best_weights=True)\n",
        "\n",
        "Simple_history = tmin_model_Simple.fit(rf_train_vars_tmin_norm, train_verification_tmin, epochs=100, validation_split = 0.1, callbacks=[early_stop, tensorboard_callback])\n",
        "Simplehist = pd.DataFrame(Simple_history.history)\n",
        "Simplehist['epoch'] = Simple_history.epoch"
      ],
      "execution_count": 0,
      "outputs": []
    },
    {
      "cell_type": "code",
      "metadata": {
        "collapsed": true,
        "jupyter": {
          "outputs_hidden": true
        },
        "id": "2aSphuqYDIsR",
        "colab_type": "code",
        "colab": {}
      },
      "source": [
        "%%time\n",
        "\n",
        "logdir = os.path.join(logs_base_dir, datetime.datetime.now().strftime(\"%Y%m%d-%H%M%S\"))\n",
        "tensorboard_callback = tf.keras.callbacks.TensorBoard(logdir, histogram_freq=1)\n",
        "early_stop = keras.callbacks.EarlyStopping(monitor='mse', patience=10, restore_best_weights=True)\n",
        "\n",
        "Intermediate_history = tmin_model_Intermediate.fit(rf_train_vars_tmin_norm, train_verification_tmin, epochs=100, validation_split = 0.1, callbacks=[early_stop, tensorboard_callback])\n",
        "Intermediatehist = pd.DataFrame(Intermediate_history.history)\n",
        "Intermediatehist['epoch'] = Intermediate_history.epoch"
      ],
      "execution_count": 0,
      "outputs": []
    },
    {
      "cell_type": "code",
      "metadata": {
        "collapsed": true,
        "jupyter": {
          "outputs_hidden": true
        },
        "id": "mzYNDFByDIsT",
        "colab_type": "code",
        "colab": {}
      },
      "source": [
        "%%time\n",
        "\n",
        "logdir = os.path.join(logs_base_dir, datetime.datetime.now().strftime(\"%Y%m%d-%H%M%S\"))\n",
        "tensorboard_callback = tf.keras.callbacks.TensorBoard(logdir, histogram_freq=1)\n",
        "early_stop = keras.callbacks.EarlyStopping(monitor='mse', patience=10, restore_best_weights=True)\n",
        "\n",
        "Complex_history = tmin_model_Complex.fit(rf_train_vars_tmin_norm, train_verification_tmin, epochs=100, validation_split = 0.1, callbacks=[early_stop, tensorboard_callback])\n",
        "Complexhist = pd.DataFrame(Complex_history.history)\n",
        "Complexhist['epoch'] = Complex_history.epoch"
      ],
      "execution_count": 0,
      "outputs": []
    },
    {
      "cell_type": "markdown",
      "metadata": {
        "id": "uaMLK7oFDIsW",
        "colab_type": "text"
      },
      "source": [
        "### Histories"
      ]
    },
    {
      "cell_type": "code",
      "metadata": {
        "id": "BmHJlq-lDIsW",
        "colab_type": "code",
        "colab": {}
      },
      "source": [
        "fig, ax = plt.subplots(1,2, figsize = (20,7), sharey=True)\n",
        "\n",
        "ax[0].plot(verySimplehist['epoch'], verySimplehist['mse'], label='verySimple Train Error')\n",
        "ax[1].plot(verySimplehist['epoch'], verySimplehist['val_mse'], label = 'verySimple Val Error')\n",
        "\n",
        "ax[0].plot(Simplehist['epoch'], Simplehist['mse'], label='Simple Train Error')\n",
        "ax[1].plot(Simplehist['epoch'], Simplehist['val_mse'], label = 'Simple Val Error')\n",
        "\n",
        "ax[0].plot(Intermediatehist['epoch'], Intermediatehist['mse'], label='Intermediate Train Error')\n",
        "ax[1].plot(Intermediatehist['epoch'], Intermediatehist['val_mse'], label = 'Intermediate Val Error')\n",
        "\n",
        "ax[0].plot(Complexhist['epoch'], Complexhist['mse'], label='Complex Train Error')\n",
        "ax[1].plot(Complexhist['epoch'], Complexhist['val_mse'], label = 'Complex Val Error')\n",
        "\n",
        "ax[0].set_xlabel('Epoch')\n",
        "ax[1].set_xlabel('Epoch')\n",
        "ax[0].set_ylabel('Mean Square Error [$^\\circ C$]')\n",
        "ax[0].legend()\n",
        "ax[1].legend()\n",
        "ax[0].set_ylim([0,50])\n",
        "plt.show()"
      ],
      "execution_count": 0,
      "outputs": []
    },
    {
      "cell_type": "code",
      "metadata": {
        "id": "pi4agVCJDIsZ",
        "colab_type": "code",
        "colab": {}
      },
      "source": [
        "rf_test_vars_tmin_norm = preprocessing.scale(rf_test_vars_tmin)\n",
        "tmin_rmse = mean_squared_error(test_verification_tmin, tmin_model_verySimple.predict(rf_test_vars_tmin_norm), squared=False)\n",
        "print('verySimple RMSE on test set: {}'.format(round(tmin_rmse, 3)))\n",
        "\n",
        "tmin_rmse = mean_squared_error(test_verification_tmin, tmin_model_Simple.predict(rf_test_vars_tmin_norm), squared=False)\n",
        "print('Simple RMSE on test set: {}'.format(round(tmin_rmse, 3)))\n",
        "\n",
        "tmin_rmse = mean_squared_error(test_verification_tmin, tmin_model_Intermediate.predict(rf_test_vars_tmin_norm), squared=False)\n",
        "print('Intermediate RMSE on test set: {}'.format(round(tmin_rmse, 3)))\n",
        "\n",
        "tmin_rmse = mean_squared_error(test_verification_tmin, tmin_model_Complex.predict(rf_test_vars_tmin_norm), squared=False)\n",
        "print('Complex RMSE on test set: {}'.format(round(tmin_rmse, 3)))"
      ],
      "execution_count": 0,
      "outputs": []
    },
    {
      "cell_type": "code",
      "metadata": {
        "id": "PwMy59YkDIsb",
        "colab_type": "code",
        "colab": {}
      },
      "source": [
        "tmin_rmse = mean_squared_error(test_verification_tmin, 0.5*(tmin_model_Simple.predict(rf_test_vars_tmin_norm)\n",
        "                                                            + tmin_model_verySimple.predict(rf_test_vars_tmin_norm)), squared=False)\n",
        "print('verySimple RMSE on test set: {}'.format(round(tmin_rmse, 3)))"
      ],
      "execution_count": 0,
      "outputs": []
    },
    {
      "cell_type": "markdown",
      "metadata": {
        "id": "EoDKs197DIse",
        "colab_type": "text"
      },
      "source": [
        "### Refinement"
      ]
    },
    {
      "cell_type": "code",
      "metadata": {
        "id": "kRaKeKKWDIse",
        "colab_type": "code",
        "colab": {}
      },
      "source": [
        "def build_tmin_model_Complex_v2():\n",
        "    model = keras.Sequential([\n",
        "        Dense(4, activation=tf.nn.relu, input_shape=[len(rf_train_vars_tmin_norm[0])], kernel_regularizer=tf.keras.regularizers.l1_l2(l1=0.01, l2=0.01)),\n",
        "        Dense(4, activation=tf.nn.relu, input_shape=[len(rf_train_vars_tmin_norm[0])], kernel_regularizer=tf.keras.regularizers.l1_l2(l1=0.01, l2=0.01)),\n",
        "        Dense(4, activation=tf.nn.relu, input_shape=[len(rf_train_vars_tmin_norm[0])], kernel_regularizer=tf.keras.regularizers.l1_l2(l1=0.01, l2=0.01)),\n",
        "        Dense(1)\n",
        "    ])\n",
        "\n",
        "    model.compile(optimizer = tf.optimizers.RMSprop(),\n",
        "                  # tf.optimizers.Adam(learning_rate=0.001, beta_1=0.9, beta_2=0.999, epsilon=1e-07, amsgrad=False), \n",
        "                  # there are others: https://www.tensorflow.org/versions/r2.0/api_docs/python/tf/keras/optimizers\n",
        "                  loss='mse', metrics=['mae', 'mse']) \n",
        "\n",
        "    return model"
      ],
      "execution_count": 0,
      "outputs": []
    },
    {
      "cell_type": "code",
      "metadata": {
        "id": "hHiXVCZ-DIsh",
        "colab_type": "code",
        "colab": {}
      },
      "source": [
        "tmin_model = build_tmin_model_Complex_v2()"
      ],
      "execution_count": 0,
      "outputs": []
    },
    {
      "cell_type": "code",
      "metadata": {
        "id": "vxWBczYrDIsj",
        "colab_type": "code",
        "colab": {}
      },
      "source": [
        "tmin_model.summary()"
      ],
      "execution_count": 0,
      "outputs": []
    },
    {
      "cell_type": "code",
      "metadata": {
        "collapsed": true,
        "jupyter": {
          "outputs_hidden": true
        },
        "id": "pV9HW6b9DIsl",
        "colab_type": "code",
        "colab": {}
      },
      "source": [
        "%%time\n",
        "\n",
        "logdir = os.path.join(logs_base_dir, datetime.datetime.now().strftime(\"%Y%m%d-%H%M%S\"))\n",
        "tensorboard_callback = tf.keras.callbacks.TensorBoard(logdir, histogram_freq=1)\n",
        "early_stop = keras.callbacks.EarlyStopping(monitor='mse', patience=10, restore_best_weights=True)\n",
        "\n",
        "history = tmin_model.fit(rf_train_vars_tmin_norm, train_verification_tmin, epochs=300, validation_split = 0.1, callbacks=[early_stop, tensorboard_callback])\n",
        "hist = pd.DataFrame(history.history)\n",
        "hist['epoch'] = history.epoch"
      ],
      "execution_count": 0,
      "outputs": []
    },
    {
      "cell_type": "code",
      "metadata": {
        "id": "jCgiVD6lDIsm",
        "colab_type": "code",
        "colab": {}
      },
      "source": [
        "plot_history('$^\\circ C$')"
      ],
      "execution_count": 0,
      "outputs": []
    },
    {
      "cell_type": "code",
      "metadata": {
        "id": "tnyJP4GwDIso",
        "colab_type": "code",
        "colab": {}
      },
      "source": [
        "rf_test_vars_tmin_norm = preprocessing.scale(rf_test_vars_tmin)\n",
        "tmin_rmse = mean_squared_error(test_verification_tmin, tmin_model.predict(rf_test_vars_tmin_norm), squared=False)\n",
        "print('RMSE on test set: {}'.format(round(tmin_rmse, 3)))"
      ],
      "execution_count": 0,
      "outputs": []
    },
    {
      "cell_type": "markdown",
      "metadata": {
        "id": "9GzVvxKXDIsq",
        "colab_type": "text"
      },
      "source": [
        "### Ensemble"
      ]
    },
    {
      "cell_type": "code",
      "metadata": {
        "id": "qJU_cgpVDIsq",
        "colab_type": "code",
        "colab": {}
      },
      "source": [
        "def build_tmin_model_variable(n_nodes):\n",
        "    model = keras.Sequential([\n",
        "        Dense(n_nodes, activation=tf.nn.relu, input_shape=[len(rf_train_vars_tmin_norm[0])]),\n",
        "        Dense(1)\n",
        "    ])\n",
        "\n",
        "    model.compile(optimizer = tf.optimizers.RMSprop(learning_rate=0.001, momentum=0.9, epsilon=1e-07, centered=True),\n",
        "                  # tf.optimizers.Adam(learning_rate=0.001, beta_1=0.9, beta_2=0.999, epsilon=1e-07, amsgrad=False), \n",
        "                  # there are others: https://www.tensorflow.org/versions/r2.0/api_docs/python/tf/keras/optimizers\n",
        "                  loss='mse', metrics=['mae', 'mse']) \n",
        "\n",
        "    return model"
      ],
      "execution_count": 0,
      "outputs": []
    },
    {
      "cell_type": "code",
      "metadata": {
        "id": "pUToBQUSDIss",
        "colab_type": "code",
        "colab": {}
      },
      "source": [
        "# Build each model\n",
        "for nodes in range(4,31):\n",
        "    globals()['tmin_model_' + str(nodes)] = build_tmin_model_variable(nodes)"
      ],
      "execution_count": 0,
      "outputs": []
    },
    {
      "cell_type": "code",
      "metadata": {
        "id": "wgMZ2h8YDIsu",
        "colab_type": "code",
        "colab": {}
      },
      "source": [
        "# Example\n",
        "tmin_model_4.summary()"
      ],
      "execution_count": 0,
      "outputs": []
    },
    {
      "cell_type": "code",
      "metadata": {
        "id": "2lHMHCfVDIsx",
        "colab_type": "code",
        "colab": {}
      },
      "source": [
        "def train_tmin_model(model_nodes):\n",
        "    logdir = os.path.join(logs_base_dir, datetime.datetime.now().strftime(\"%Y%m%d-%H%M%S\"))\n",
        "    tensorboard_callback = tf.keras.callbacks.TensorBoard(logdir, histogram_freq=1)\n",
        "    early_stop = keras.callbacks.EarlyStopping(monitor='mse', patience=10, restore_best_weights=True)\n",
        "    \n",
        "    model = globals()['tmin_model_' + str(model_nodes)]\n",
        "\n",
        "    globals()['tmin_model_' + str(model_nodes) + '_history'] = model.fit(rf_train_vars_tmin_norm, train_verification_tmin, epochs=100, validation_split = 0.1, callbacks=[early_stop, tensorboard_callback], verbose=0.)\n",
        "    globals()['tmin_model_' + str(model_nodes) + 'hist'] = pd.DataFrame(globals()['tmin_model_' + str(model_nodes) + '_history'].history)\n",
        "    globals()['tmin_model_' + str(model_nodes) + 'hist']['epoch'] = globals()['tmin_model_' + str(model_nodes) + '_history'].epoch"
      ],
      "execution_count": 0,
      "outputs": []
    },
    {
      "cell_type": "code",
      "metadata": {
        "id": "p0Cc331IDIsz",
        "colab_type": "code",
        "colab": {}
      },
      "source": [
        "# Train each model\n",
        "for nodes in range(4,31):\n",
        "    print('Training model ' + str(nodes) + '...')\n",
        "    train_tmin_model(nodes)"
      ],
      "execution_count": 0,
      "outputs": []
    },
    {
      "cell_type": "code",
      "metadata": {
        "id": "pYh1kxtnDIs1",
        "colab_type": "code",
        "colab": {}
      },
      "source": [
        "# Show histories\n",
        "def plot_history(model_nodes, train_axis, val_axis):\n",
        "    hist = globals()['tmin_model_' + str(model_nodes) + 'hist']\n",
        "    train_axis.plot(hist['epoch'], hist['mse'], color = 'gray')\n",
        "    val_axis.plot(hist['epoch'], hist['val_mse'], color = 'gray')\n",
        "    \n",
        "fig, ax = plt.subplots(1,2, figsize = (20,7), sharey=True)\n",
        "\n",
        "for nodes in range(4,31):\n",
        "    plot_history(nodes, ax[0], ax[1])\n",
        "\n",
        "ax[0].set_xlabel('Epoch')\n",
        "ax[1].set_xlabel('Epoch')\n",
        "ax[0].set_ylabel('Mean Square Error [$^\\circ C$]')\n",
        "ax[0].set_ylim([0,50])\n",
        "plt.show()"
      ],
      "execution_count": 0,
      "outputs": []
    },
    {
      "cell_type": "code",
      "metadata": {
        "id": "ONrT28HmDIs3",
        "colab_type": "code",
        "colab": {}
      },
      "source": [
        "# RMSEs\n",
        "rf_test_vars_tmin_norm = preprocessing.scale(rf_test_vars_tmin)\n",
        "fig, ax = plt.subplots(1,1, figsize = (20,7))\n",
        "\n",
        "for nodes in range(4,31):\n",
        "    model = globals()['tmin_model_' + str(nodes)]\n",
        "    rmse = mean_squared_error(test_verification_tmin, model.predict(rf_test_vars_tmin_norm), squared=False)\n",
        "    ax.scatter(nodes, rmse, s=15, c='black')\n",
        "    print(rmse)\n",
        "\n",
        "ax.set_xlabel('Model #')\n",
        "ax.set_ylabel('Mean Square Error [$^\\circ C$]')\n",
        "ax.set_ylim([2.,2.2])\n",
        "plt.show()"
      ],
      "execution_count": 0,
      "outputs": []
    },
    {
      "cell_type": "code",
      "metadata": {
        "id": "yyoFRL0vDIs5",
        "colab_type": "code",
        "colab": {}
      },
      "source": [
        "# Ensemble RMSE\n",
        "prediction = 0.\n",
        "\n",
        "for nodes in range(4,31):\n",
        "    model = globals()['tmin_model_' + str(nodes)]\n",
        "    prediction += model.predict(rf_test_vars_tmin_norm)\n",
        "\n",
        "prediction /= 26.\n",
        "\n",
        "print('Ensemble Mean RMSE: ' + str(np.round(mean_squared_error(test_verification_tmin, prediction, squared=False),4)) + ' deg C')"
      ],
      "execution_count": 0,
      "outputs": []
    },
    {
      "cell_type": "code",
      "metadata": {
        "id": "xb0C74aVDIs7",
        "colab_type": "code",
        "colab": {}
      },
      "source": [
        "# Ensemble RMSE\n",
        "prediction = 0.\n",
        "\n",
        "for nodes in [8,11,24]:\n",
        "    model = globals()['tmin_model_' + str(nodes)]\n",
        "    prediction += model.predict(rf_test_vars_tmin_norm)\n",
        "\n",
        "prediction /= 3.\n",
        "\n",
        "print('Ensemble Mean RMSE: ' + str(np.round(mean_squared_error(test_verification_tmin, prediction, squared=False),4)) + ' deg C')"
      ],
      "execution_count": 0,
      "outputs": []
    },
    {
      "cell_type": "code",
      "metadata": {
        "id": "XLUzfwlYDIs9",
        "colab_type": "code",
        "colab": {}
      },
      "source": [
        "# Plot \n",
        "fig, ax = plt.subplots(figsize = (8,5))\n",
        "ax.plot(test_dates, test_verification_tmin, 'ro', label = 'Observed')\n",
        "ax.plot(test_dates, prediction, 'b-', label = 'Predicted')\n",
        "ax.set_xlabel('Date')\n",
        "ax.set_ylabel('Temperature ($^\\degree C$)')\n",
        "plt.xticks(rotation = 45)\n",
        "plt.legend()\n",
        "plt.tight_layout()\n",
        "plt.savefig('tmin_final.png')"
      ],
      "execution_count": 0,
      "outputs": []
    },
    {
      "cell_type": "markdown",
      "metadata": {
        "id": "7Zoih3qXDIs_",
        "colab_type": "text"
      },
      "source": [
        "## Max Wind Speed"
      ]
    },
    {
      "cell_type": "code",
      "metadata": {
        "id": "xJgQfS1eDIs_",
        "colab_type": "code",
        "colab": {}
      },
      "source": [
        "rf_train_vars_wind"
      ],
      "execution_count": 0,
      "outputs": []
    },
    {
      "cell_type": "code",
      "metadata": {
        "id": "yRM9wrwCDItB",
        "colab_type": "code",
        "colab": {}
      },
      "source": [
        "# Standardize\n",
        "rf_train_vars_wind_norm = preprocessing.scale(rf_train_vars_wind)"
      ],
      "execution_count": 0,
      "outputs": []
    },
    {
      "cell_type": "code",
      "metadata": {
        "id": "qWgHu6wcDItD",
        "colab_type": "code",
        "colab": {}
      },
      "source": [
        "rf_train_vars_wind_norm"
      ],
      "execution_count": 0,
      "outputs": []
    },
    {
      "cell_type": "markdown",
      "metadata": {
        "id": "xPAnR0G9DItE",
        "colab_type": "text"
      },
      "source": [
        "### Model"
      ]
    },
    {
      "cell_type": "code",
      "metadata": {
        "id": "AD2Es4EIDItF",
        "colab_type": "code",
        "colab": {}
      },
      "source": [
        "# Build model\n",
        "def build_wind_model():\n",
        "    model = keras.Sequential([\n",
        "        Dense(4, activation=tf.nn.relu, input_shape=[len(rf_train_vars_wind_norm[0])], kernel_regularizer=tf.keras.regularizers.l1_l2(l1=0.01, l2=0.01)),\n",
        "        Dense(4, activation=tf.nn.relu, input_shape=[len(rf_train_vars_wind_norm[0])], kernel_regularizer=tf.keras.regularizers.l1_l2(l1=0.01, l2=0.01)),\n",
        "        Dense(4, activation=tf.nn.relu, input_shape=[len(rf_train_vars_wind_norm[0])], kernel_regularizer=tf.keras.regularizers.l1_l2(l1=0.01, l2=0.01)),\n",
        "        Dense(1, activation=tf.nn.relu)\n",
        "    ])\n",
        "\n",
        "    model.compile(optimizer = tf.optimizers.RMSprop(),\n",
        "                  # tf.optimizers.Adam(learning_rate=0.001, beta_1=0.9, beta_2=0.999, epsilon=1e-07, amsgrad=False), \n",
        "                  # there are others: https://www.tensorflow.org/versions/r2.0/api_docs/python/tf/keras/optimizers\n",
        "                  loss='mse', metrics=['mae', 'mse']) \n",
        "\n",
        "    return model"
      ],
      "execution_count": 0,
      "outputs": []
    },
    {
      "cell_type": "code",
      "metadata": {
        "id": "RtmNdncmDItI",
        "colab_type": "code",
        "colab": {}
      },
      "source": [
        "wind_model = build_wind_model()"
      ],
      "execution_count": 0,
      "outputs": []
    },
    {
      "cell_type": "code",
      "metadata": {
        "id": "3xnIjo2ZDItK",
        "colab_type": "code",
        "colab": {}
      },
      "source": [
        "wind_model.summary()"
      ],
      "execution_count": 0,
      "outputs": []
    },
    {
      "cell_type": "code",
      "metadata": {
        "jupyter": {
          "outputs_hidden": true
        },
        "id": "MCmYAu44DItL",
        "colab_type": "code",
        "colab": {}
      },
      "source": [
        "%%time\n",
        "\n",
        "logdir = os.path.join(logs_base_dir, datetime.datetime.now().strftime(\"%Y%m%d-%H%M%S\"))\n",
        "tensorboard_callback = tf.keras.callbacks.TensorBoard(logdir, histogram_freq=1)\n",
        "\n",
        "history = wind_model.fit(rf_train_vars_wind_norm, train_verification_wind, epochs=300, validation_split = 0.1, callbacks=[early_stop, tensorboard_callback])\n",
        "\n",
        "hist = pd.DataFrame(history.history)\n",
        "hist['epoch'] = history.epoch"
      ],
      "execution_count": 0,
      "outputs": []
    },
    {
      "cell_type": "markdown",
      "metadata": {
        "id": "i8ya89kFDItN",
        "colab_type": "text"
      },
      "source": [
        "### RMSE"
      ]
    },
    {
      "cell_type": "code",
      "metadata": {
        "id": "V8WwhcXZDItO",
        "colab_type": "code",
        "colab": {}
      },
      "source": [
        "rmse_train = np.sqrt(float(hist['val_mse'].tail(1)))\n",
        "print('Final Root Mean Square Error on validation set: {}'.format(round(rmse_train, 3)))"
      ],
      "execution_count": 0,
      "outputs": []
    },
    {
      "cell_type": "code",
      "metadata": {
        "id": "DaOSGOtuDItP",
        "colab_type": "code",
        "colab": {}
      },
      "source": [
        "plot_history('$m/s$')"
      ],
      "execution_count": 0,
      "outputs": []
    },
    {
      "cell_type": "code",
      "metadata": {
        "id": "qZjLlidFDItR",
        "colab_type": "code",
        "colab": {}
      },
      "source": [
        "rf_test_vars_wind_norm = preprocessing.scale(rf_test_vars_wind)\n",
        "wind_rmse = mean_squared_error(test_verification_wind, wind_model.predict(rf_test_vars_wind_norm), squared=False)\n",
        "print('Root Mean Square Error on test set: {}'.format(round(wind_rmse, 3)))"
      ],
      "execution_count": 0,
      "outputs": []
    },
    {
      "cell_type": "markdown",
      "metadata": {
        "id": "kwbpn3PtDItT",
        "colab_type": "text"
      },
      "source": [
        "### Ensemble"
      ]
    },
    {
      "cell_type": "code",
      "metadata": {
        "id": "of1pJ60zDItT",
        "colab_type": "code",
        "colab": {}
      },
      "source": [
        "def build_wind_model_variable(n_nodes):\n",
        "    model = keras.Sequential([\n",
        "        Dense(n_nodes, activation=tf.nn.relu, input_shape=[len(rf_train_vars_wind_norm[0])]),\n",
        "        Dense(1)\n",
        "    ])\n",
        "\n",
        "    model.compile(optimizer = tf.optimizers.RMSprop(learning_rate=0.001, centered=True),\n",
        "                  # tf.optimizers.Adam(learning_rate=0.001, beta_1=0.9, beta_2=0.999, epsilon=1e-07, amsgrad=False), \n",
        "                  # there are others: https://www.tensorflow.org/versions/r2.0/api_docs/python/tf/keras/optimizers\n",
        "                  loss='mse', metrics=['mae', 'mse']) \n",
        "\n",
        "    return model"
      ],
      "execution_count": 0,
      "outputs": []
    },
    {
      "cell_type": "code",
      "metadata": {
        "id": "aScAvAvyDItV",
        "colab_type": "code",
        "colab": {}
      },
      "source": [
        "# Build each model\n",
        "for nodes in range(4,31):\n",
        "    globals()['wind_model_' + str(nodes)] = build_wind_model_variable(nodes)"
      ],
      "execution_count": 0,
      "outputs": []
    },
    {
      "cell_type": "code",
      "metadata": {
        "id": "vl3xKVS9DItX",
        "colab_type": "code",
        "colab": {}
      },
      "source": [
        "# Example\n",
        "wind_model_4.summary()"
      ],
      "execution_count": 0,
      "outputs": []
    },
    {
      "cell_type": "code",
      "metadata": {
        "id": "W8tHOPt5DItZ",
        "colab_type": "code",
        "colab": {}
      },
      "source": [
        "def train_wind_model(model_nodes):\n",
        "    logdir = os.path.join(logs_base_dir, datetime.datetime.now().strftime(\"%Y%m%d-%H%M%S\"))\n",
        "    tensorboard_callback = tf.keras.callbacks.TensorBoard(logdir, histogram_freq=1)\n",
        "    early_stop = keras.callbacks.EarlyStopping(monitor='mse', patience=10, restore_best_weights=True)\n",
        "    \n",
        "    model = globals()['wind_model_' + str(model_nodes)]\n",
        "\n",
        "    globals()['wind_model_' + str(model_nodes) + '_history'] = model.fit(rf_train_vars_wind_norm, train_verification_wind, epochs=100, validation_split = 0.1, callbacks=[early_stop, tensorboard_callback], verbose=0.)\n",
        "    globals()['wind_model_' + str(model_nodes) + 'hist'] = pd.DataFrame(globals()['wind_model_' + str(model_nodes) + '_history'].history)\n",
        "    globals()['wind_model_' + str(model_nodes) + 'hist']['epoch'] = globals()['wind_model_' + str(model_nodes) + '_history'].epoch"
      ],
      "execution_count": 0,
      "outputs": []
    },
    {
      "cell_type": "code",
      "metadata": {
        "id": "8FjF3lknDIta",
        "colab_type": "code",
        "colab": {}
      },
      "source": [
        "# Train each model\n",
        "for nodes in range(4,31):\n",
        "    print('Training model ' + str(nodes) + '...')\n",
        "    train_wind_model(nodes)"
      ],
      "execution_count": 0,
      "outputs": []
    },
    {
      "cell_type": "code",
      "metadata": {
        "id": "vJBZtOb5DItc",
        "colab_type": "code",
        "colab": {}
      },
      "source": [
        "# Show histories\n",
        "def plot_history(model_nodes, train_axis, val_axis):\n",
        "    hist = globals()['wind_model_' + str(model_nodes) + 'hist']\n",
        "    train_axis.plot(hist['epoch'], hist['mse'], color = 'gray')\n",
        "    val_axis.plot(hist['epoch'], hist['val_mse'], color = 'gray')\n",
        "    \n",
        "fig, ax = plt.subplots(1,2, figsize = (20,7), sharey=True)\n",
        "\n",
        "for nodes in range(4,31):\n",
        "    plot_history(nodes, ax[0], ax[1])\n",
        "\n",
        "ax[0].set_xlabel('Epoch')\n",
        "ax[1].set_xlabel('Epoch')\n",
        "ax[0].set_ylabel('Mean Square Error [$m/s$]')\n",
        "ax[0].set_ylim([0,50])\n",
        "plt.show()"
      ],
      "execution_count": 0,
      "outputs": []
    },
    {
      "cell_type": "code",
      "metadata": {
        "id": "AU3IuWjVDItd",
        "colab_type": "code",
        "colab": {}
      },
      "source": [
        "# RMSEs\n",
        "rf_test_vars_wind_norm = preprocessing.scale(rf_test_vars_wind)\n",
        "fig, ax = plt.subplots(1,1, figsize = (20,7))\n",
        "\n",
        "for nodes in range(4,31):\n",
        "    model = globals()['wind_model_' + str(nodes)]\n",
        "    rmse = mean_squared_error(test_verification_wind, model.predict(rf_test_vars_wind_norm), squared=False)\n",
        "    ax.scatter(nodes, rmse, s=15, c='black')\n",
        "    print(rmse)\n",
        "\n",
        "ax.set_xlabel('Model #')\n",
        "ax.set_ylabel('Mean Square Error [$m/s$]')\n",
        "plt.show()"
      ],
      "execution_count": 0,
      "outputs": []
    },
    {
      "cell_type": "code",
      "metadata": {
        "id": "hKbmFiR9DItf",
        "colab_type": "code",
        "colab": {}
      },
      "source": [
        "# Ensemble RMSE\n",
        "prediction = 0.\n",
        "\n",
        "for nodes in range(4,31):\n",
        "    model = globals()['wind_model_' + str(nodes)]\n",
        "    prediction += model.predict(rf_test_vars_wind_norm)\n",
        "\n",
        "prediction /= 26.\n",
        "\n",
        "print('Ensemble Mean RMSE: ' + str(np.round(mean_squared_error(test_verification_wind, prediction, squared=False),4)) + ' m/s')"
      ],
      "execution_count": 0,
      "outputs": []
    },
    {
      "cell_type": "code",
      "metadata": {
        "id": "JG3qTu7NDIti",
        "colab_type": "code",
        "colab": {}
      },
      "source": [
        "# Ensemble RMSE\n",
        "prediction = 0.\n",
        "\n",
        "for nodes in [28,6]:\n",
        "    model = globals()['wind_model_' + str(nodes)]\n",
        "    prediction += model.predict(rf_test_vars_wind_norm)\n",
        "\n",
        "prediction /= 2.\n",
        "\n",
        "print('Ensemble Mean RMSE: ' + str(np.round(mean_squared_error(test_verification_wind, prediction, squared=False),4)) + ' m/s')"
      ],
      "execution_count": 0,
      "outputs": []
    },
    {
      "cell_type": "code",
      "metadata": {
        "id": "3hRhmJV4DItk",
        "colab_type": "code",
        "colab": {}
      },
      "source": [
        "# Plot\n",
        "fig, ax = plt.subplots(figsize = (8,5))\n",
        "ax.plot(test_dates, test_verification_wind, 'ro', label = 'Observed')\n",
        "ax.plot(test_dates, prediction, 'b-', label = 'Predicted')\n",
        "ax.set_xlabel('Date')\n",
        "ax.set_ylabel('Wind Speed ($m/s$)')\n",
        "plt.legend(loc = [0.48, 0.78])\n",
        "plt.tight_layout()\n",
        "plt.savefig('wind_final.png')"
      ],
      "execution_count": 0,
      "outputs": []
    },
    {
      "cell_type": "markdown",
      "metadata": {
        "id": "bga_T5NnDItm",
        "colab_type": "text"
      },
      "source": [
        "## Total Precipitation"
      ]
    },
    {
      "cell_type": "code",
      "metadata": {
        "id": "6znqBUh4DItm",
        "colab_type": "code",
        "colab": {}
      },
      "source": [
        "rf_train_vars_prcp.head()"
      ],
      "execution_count": 0,
      "outputs": []
    },
    {
      "cell_type": "code",
      "metadata": {
        "id": "n_6Q09sRDIto",
        "colab_type": "code",
        "colab": {}
      },
      "source": [
        "# Standardize\n",
        "rf_train_vars_prcp_norm = preprocessing.scale(rf_train_vars_prcp)"
      ],
      "execution_count": 0,
      "outputs": []
    },
    {
      "cell_type": "code",
      "metadata": {
        "id": "XHgSmsQKDItp",
        "colab_type": "code",
        "colab": {}
      },
      "source": [
        "rf_train_vars_prcp_norm"
      ],
      "execution_count": 0,
      "outputs": []
    },
    {
      "cell_type": "markdown",
      "metadata": {
        "id": "ErttWXkDDItr",
        "colab_type": "text"
      },
      "source": [
        "### Model"
      ]
    },
    {
      "cell_type": "code",
      "metadata": {
        "id": "ATuwoddMDItr",
        "colab_type": "code",
        "colab": {}
      },
      "source": [
        "# Build model\n",
        "def build_prcp_model():\n",
        "    model = keras.Sequential([\n",
        "        Dense(4, activation=tf.nn.relu, input_shape=[len(rf_train_vars_prcp_norm[0])], kernel_regularizer=tf.keras.regularizers.l1_l2(l1=0.01, l2=0.01)),\n",
        "        Dropout(0.3),\n",
        "        Dense(4, activation=tf.nn.relu, input_shape=[len(rf_train_vars_prcp_norm[0])], kernel_regularizer=tf.keras.regularizers.l1_l2(l1=0.01, l2=0.01)),\n",
        "        Dropout(0.3),\n",
        "        Dense(4, activation=tf.nn.relu, input_shape=[len(rf_train_vars_prcp_norm[0])], kernel_regularizer=tf.keras.regularizers.l1_l2(l1=0.01, l2=0.01)),\n",
        "        Dense(1, activation=tf.nn.relu)\n",
        "    ])\n",
        "\n",
        "    model.compile(optimizer = tf.optimizers.RMSprop(),\n",
        "                  # tf.optimizers.Adam(learning_rate=0.001, beta_1=0.9, beta_2=0.999, epsilon=1e-07, amsgrad=False), \n",
        "                  # There are others: https://www.tensorflow.org/versions/r2.0/api_docs/python/tf/keras/optimizers\n",
        "                  loss='mse', metrics=['mae', 'mse']) \n",
        "\n",
        "    return model "
      ],
      "execution_count": 0,
      "outputs": []
    },
    {
      "cell_type": "code",
      "metadata": {
        "id": "QevKl5fRDItt",
        "colab_type": "code",
        "colab": {}
      },
      "source": [
        "prcp_model = build_prcp_model()"
      ],
      "execution_count": 0,
      "outputs": []
    },
    {
      "cell_type": "code",
      "metadata": {
        "id": "ulTdDFgTDItu",
        "colab_type": "code",
        "colab": {}
      },
      "source": [
        "prcp_model.summary()"
      ],
      "execution_count": 0,
      "outputs": []
    },
    {
      "cell_type": "code",
      "metadata": {
        "jupyter": {
          "outputs_hidden": true
        },
        "id": "zaZxdbzEDItw",
        "colab_type": "code",
        "colab": {}
      },
      "source": [
        "%%time\n",
        "\n",
        "logdir = os.path.join(logs_base_dir, datetime.datetime.now().strftime(\"%Y%m%d-%H%M%S\"))\n",
        "# early_stop = keras.callbacks.EarlyStopping(monitor='mse', patience=10, restore_best_weights=True)\n",
        "tensorboard_callback = tf.keras.callbacks.TensorBoard(logdir, histogram_freq=1)\n",
        "\n",
        "history = prcp_model.fit(rf_train_vars_prcp_norm, train_verification_prcp, epochs=200, validation_split = 0.1, callbacks=[early_stop,tensorboard_callback])\n",
        "\n",
        "hist = pd.DataFrame(history.history)\n",
        "hist['epoch'] = history.epoch"
      ],
      "execution_count": 0,
      "outputs": []
    },
    {
      "cell_type": "markdown",
      "metadata": {
        "id": "9q2sinvtDIty",
        "colab_type": "text"
      },
      "source": [
        "### RMSE"
      ]
    },
    {
      "cell_type": "code",
      "metadata": {
        "id": "WVDbFfD9DIty",
        "colab_type": "code",
        "colab": {}
      },
      "source": [
        "rmse_train = np.sqrt(float(hist['val_mse'].tail(1)))\n",
        "print('Final Root Mean Square Error on validation set: {}'.format(round(rmse_train, 3)))"
      ],
      "execution_count": 0,
      "outputs": []
    },
    {
      "cell_type": "code",
      "metadata": {
        "id": "UoiOlrrkDIt2",
        "colab_type": "code",
        "colab": {}
      },
      "source": [
        "def plot_history(unit):\n",
        "    plt.figure()\n",
        "    plt.xlabel('Epoch')\n",
        "    plt.ylabel('Mean Square Error [' + unit + ']')\n",
        "    plt.plot(hist['epoch'], hist['mse'], label='Train Error')\n",
        "    plt.plot(hist['epoch'], hist['val_mse'], label = 'Val Error')\n",
        "    plt.legend()\n",
        "    plt.ylim([20,60])\n",
        "    plt.savefig('prcp_bs_model.png')\n",
        "plot_history('$mm$')"
      ],
      "execution_count": 0,
      "outputs": []
    },
    {
      "cell_type": "code",
      "metadata": {
        "id": "HmNskxooDIt4",
        "colab_type": "code",
        "colab": {}
      },
      "source": [
        "rf_test_vars_prcp_norm = preprocessing.scale(rf_test_vars_prcp)\n",
        "prcp_rmse = mean_squared_error(test_verification_prcp, prcp_model.predict(rf_test_vars_prcp_norm), squared=False)\n",
        "print('Root Mean Square Error on test set: {}'.format(round(prcp_rmse, 3)))"
      ],
      "execution_count": 0,
      "outputs": []
    },
    {
      "cell_type": "markdown",
      "metadata": {
        "id": "LnAMENCKDIt5",
        "colab_type": "text"
      },
      "source": [
        "### Ensemble"
      ]
    },
    {
      "cell_type": "code",
      "metadata": {
        "id": "r0-0r4e1DIt6",
        "colab_type": "code",
        "colab": {}
      },
      "source": [
        "def build_prcp_model_variable(n_nodes):\n",
        "    model = keras.Sequential([\n",
        "        Dense(n_nodes, activation=tf.nn.relu, input_shape=[len(rf_train_vars_prcp_norm[0])]),\n",
        "        Dense(1, activation=tf.nn.relu)\n",
        "    ])\n",
        "\n",
        "    model.compile(optimizer = tf.optimizers.RMSprop(learning_rate=0.001, epsilon=1e-07, centered=True),\n",
        "                  # tf.optimizers.Adam(learning_rate=0.001, beta_1=0.9, beta_2=0.999, epsilon=1e-07, amsgrad=False), \n",
        "                  # there are others: https://www.tensorflow.org/versions/r2.0/api_docs/python/tf/keras/optimizers\n",
        "                  loss='mse', metrics=['mae', 'mse']) \n",
        "\n",
        "    return model"
      ],
      "execution_count": 0,
      "outputs": []
    },
    {
      "cell_type": "code",
      "metadata": {
        "id": "3x0RcIuJDIt8",
        "colab_type": "code",
        "colab": {}
      },
      "source": [
        "# Build each model\n",
        "for nodes in range(4,31):\n",
        "    globals()['prcp_model_' + str(nodes)] = build_prcp_model_variable(nodes)"
      ],
      "execution_count": 0,
      "outputs": []
    },
    {
      "cell_type": "code",
      "metadata": {
        "id": "HUflew9uDIuA",
        "colab_type": "code",
        "colab": {}
      },
      "source": [
        "# Example\n",
        "prcp_model_4.summary()"
      ],
      "execution_count": 0,
      "outputs": []
    },
    {
      "cell_type": "code",
      "metadata": {
        "id": "AXFytBRwDIuB",
        "colab_type": "code",
        "colab": {}
      },
      "source": [
        "def train_prcp_model(model_nodes):\n",
        "    logdir = os.path.join(logs_base_dir, datetime.datetime.now().strftime(\"%Y%m%d-%H%M%S\"))\n",
        "    tensorboard_callback = tf.keras.callbacks.TensorBoard(logdir, histogram_freq=1)\n",
        "    early_stop = keras.callbacks.EarlyStopping(monitor='mse', patience=10, restore_best_weights=True)\n",
        "    \n",
        "    model = globals()['prcp_model_' + str(model_nodes)]\n",
        "\n",
        "    globals()['prcp_model_' + str(model_nodes) + '_history'] = model.fit(rf_train_vars_prcp_norm, train_verification_prcp, epochs=100, validation_split = 0.1, callbacks=[early_stop, tensorboard_callback], verbose=0.)\n",
        "    globals()['prcp_model_' + str(model_nodes) + 'hist'] = pd.DataFrame(globals()['prcp_model_' + str(model_nodes) + '_history'].history)\n",
        "    globals()['prcp_model_' + str(model_nodes) + 'hist']['epoch'] = globals()['prcp_model_' + str(model_nodes) + '_history'].epoch"
      ],
      "execution_count": 0,
      "outputs": []
    },
    {
      "cell_type": "code",
      "metadata": {
        "id": "76rV4pNjDIuD",
        "colab_type": "code",
        "colab": {}
      },
      "source": [
        "# Train each model\n",
        "for nodes in range(4,31):\n",
        "    print('Training model ' + str(nodes) + '...')\n",
        "    train_prcp_model(nodes)"
      ],
      "execution_count": 0,
      "outputs": []
    },
    {
      "cell_type": "code",
      "metadata": {
        "id": "VoyhJEXPDIuE",
        "colab_type": "code",
        "colab": {}
      },
      "source": [
        "# Show histories\n",
        "def plot_history(model_nodes, train_axis, val_axis):\n",
        "    hist = globals()['prcp_model_' + str(model_nodes) + 'hist']\n",
        "    train_axis.plot(hist['epoch'], hist['mse'], color = 'gray')\n",
        "    val_axis.plot(hist['epoch'], hist['val_mse'], color = 'gray')\n",
        "    \n",
        "fig, ax = plt.subplots(1,2, figsize = (20,7), sharey=True)\n",
        "\n",
        "for nodes in range(4,31):\n",
        "    plot_history(nodes, ax[0], ax[1])\n",
        "\n",
        "ax[0].set_xlabel('Epoch')\n",
        "ax[1].set_xlabel('Epoch')\n",
        "ax[0].set_ylabel('Mean Square Error [$mm$]')\n",
        "ax[0].set_ylim([0,50])\n",
        "plt.show()"
      ],
      "execution_count": 0,
      "outputs": []
    },
    {
      "cell_type": "code",
      "metadata": {
        "id": "XE0bole3DIuG",
        "colab_type": "code",
        "colab": {}
      },
      "source": [
        "# RMSEs\n",
        "rf_test_vars_prcp_norm = preprocessing.scale(rf_test_vars_prcp)\n",
        "fig, ax = plt.subplots(1,1, figsize = (20,7))\n",
        "\n",
        "for nodes in range(4,31):\n",
        "    model = globals()['prcp_model_' + str(nodes)]\n",
        "    rmse = mean_squared_error(test_verification_prcp, model.predict(rf_test_vars_prcp_norm), squared=False)\n",
        "    ax.scatter(nodes, rmse, s=15, c='black')\n",
        "    print(rmse)\n",
        "\n",
        "ax.set_xlabel('Model #')\n",
        "ax.set_ylabel('Mean Square Error [$mm$]')\n",
        "plt.show()"
      ],
      "execution_count": 0,
      "outputs": []
    },
    {
      "cell_type": "code",
      "metadata": {
        "id": "7OUp5kw2DIuH",
        "colab_type": "code",
        "colab": {}
      },
      "source": [
        "# Ensemble RMSE\n",
        "prediction = 0.\n",
        "\n",
        "for nodes in range(4,31):\n",
        "    model = globals()['prcp_model_' + str(nodes)]\n",
        "    prediction += model.predict(rf_test_vars_prcp_norm)\n",
        "\n",
        "prediction /= 26.\n",
        "\n",
        "print('Ensemble Mean RMSE: ' + str(np.round(mean_squared_error(test_verification_prcp, prediction, squared=False),4)) + ' mm')"
      ],
      "execution_count": 0,
      "outputs": []
    },
    {
      "cell_type": "code",
      "metadata": {
        "id": "Qi_njn3QDIuI",
        "colab_type": "code",
        "colab": {}
      },
      "source": [
        "# Ensemble RMSE\n",
        "prediction = 0.\n",
        "\n",
        "for nodes in [4,6]:\n",
        "    model = globals()['prcp_model_' + str(nodes)]\n",
        "    prediction += model.predict(rf_test_vars_prcp_norm)\n",
        "\n",
        "prediction /= 2.\n",
        "\n",
        "print('Ensemble Mean RMSE: ' + str(np.round(mean_squared_error(test_verification_prcp, prediction, squared=False),4)) + ' mm')"
      ],
      "execution_count": 0,
      "outputs": []
    },
    {
      "cell_type": "code",
      "metadata": {
        "id": "nUk2VVVcDIuJ",
        "colab_type": "code",
        "colab": {}
      },
      "source": [
        "fig, ax = plt.subplots(figsize = (8,5))\n",
        "ax.plot(test_dates, test_verification_prcp, 'ro', label = 'Observed')\n",
        "ax.plot(test_dates, prediction, 'b-', label = 'Predicted')\n",
        "ax.set_xlabel('Date')\n",
        "ax.set_ylabel('Precipitation ($mm$)')\n",
        "plt.legend(loc = 'upper right')\n",
        "plt.tight_layout()\n",
        "plt.savefig('prcp_final.png')"
      ],
      "execution_count": 0,
      "outputs": []
    },
    {
      "cell_type": "code",
      "metadata": {
        "id": "EcC9IqJYDIuL",
        "colab_type": "code",
        "colab": {}
      },
      "source": [
        ""
      ],
      "execution_count": 0,
      "outputs": []
    }
  ]
}